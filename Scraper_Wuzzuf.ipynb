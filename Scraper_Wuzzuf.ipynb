{
 "cells": [
  {
   "cell_type": "markdown",
   "id": "90d680ae",
   "metadata": {},
   "source": [
    "### step install and import modules"
   ]
  },
  {
   "cell_type": "code",
   "execution_count": 1,
   "id": "5039af08",
   "metadata": {},
   "outputs": [],
   "source": [
    "import requests\n",
    "from bs4 import BeautifulSoup\n",
    "import csv\n",
    "import itertools"
   ]
  },
  {
   "cell_type": "code",
   "execution_count": 2,
   "id": "8385dc22",
   "metadata": {},
   "outputs": [],
   "source": [
    "job_titles=[]\n",
    "company_name=[]\n",
    "job_location=[]\n",
    "job_Experienced=[]\n",
    "type_job=[]\n",
    "job_posted=[]"
   ]
  },
  {
   "cell_type": "markdown",
   "id": "65c47e71",
   "metadata": {},
   "source": [
    "### step use requests to fetch the url"
   ]
  },
  {
   "cell_type": "code",
   "execution_count": 3,
   "id": "e217a589",
   "metadata": {},
   "outputs": [],
   "source": [
    "page = requests.get('https://wuzzuf.net/search/jobs/?q=python&a=hpb')\n",
    "#step save page content \n",
    "scr=page.content\n",
    "#step create soup object the parse content\n",
    "soup = BeautifulSoup(scr,'lxml')"
   ]
  },
  {
   "cell_type": "markdown",
   "id": "df993488",
   "metadata": {},
   "source": [
    "### job_titles,company_name,job_location,job_Experienced,time_for_job,company_logo,job_posted,links\n",
    "### step loop over returned list to extract needed info other lists"
   ]
  },
  {
   "cell_type": "code",
   "execution_count": 4,
   "id": "dcc60286",
   "metadata": {},
   "outputs": [
    {
     "name": "stdout",
     "output_type": "stream",
     "text": [
      "['Python Developer', 'Senior Full Stack Python Developer', 'Senior Java/ Scala Backend Developer with Python experience- Remote', 'Senior Python Developer', 'Python Developer', 'Software Engineer (Python)', 'Python and Javascript Machine Learning Engineer (NLP - Natural Language Processing)', 'Python Backend Web Developer (Django Rest Framework)', 'Python Developer', 'Senior Python Full Stack Developer', 'Python Developer', 'Python Developer', 'Senior Full Stack Developer', 'Junior Software Developer', 'Senior Data Scientist']\n"
     ]
    }
   ],
   "source": [
    "job_name=soup.find_all(\"h2\",{\"class\":\"css-m604qf\"})\n",
    "for i in range(len(job_name)):\n",
    "    job_titles.append(job_name[i].text.strip())\n",
    "print(job_titles)"
   ]
  },
  {
   "cell_type": "code",
   "execution_count": 6,
   "id": "a903313c",
   "metadata": {},
   "outputs": [
    {
     "name": "stdout",
     "output_type": "stream",
     "text": [
      "['OdooTec ', 'Luftborn ', 'GetTechForce.com ', 'Trufla ', 'Synergy Markets ', 'Tam Development LLC ', 'GetTechForce.com ', 'Trendster ', 'tawasolmap ', 'Premier Services and Recruitment ', 'Confidential ', 'Afaqy ', 'Trufla ', 'Egytrans ', 'Paymob Solutions ']\n"
     ]
    }
   ],
   "source": [
    "#get company name\n",
    "name_company = soup.find_all(\"div\",{\"class\":\"css-d7j1kk\"})\n",
    "for i in range(len(name_company)):\n",
    "    company_name.append(name_company[i].find('a').text.strip().replace('-',''))\n",
    "print(company_name)"
   ]
  },
  {
   "cell_type": "code",
   "execution_count": 7,
   "id": "05141887",
   "metadata": {},
   "outputs": [
    {
     "name": "stdout",
     "output_type": "stream",
     "text": [
      "['New Cairo, Cairo, Egypt', 'Heliopolis, Cairo, Egypt', 'Cairo, Egypt', 'Heliopolis, Cairo, Egypt', 'New Cairo, Cairo, Egypt', 'Riyadh, Saudi Arabia', 'Cairo, Egypt', 'New Cairo, Cairo, Egypt', 'Dokki, Giza, Egypt', 'Cairo, Egypt', 'New Cairo, Cairo, Egypt', 'Maadi, Cairo, Egypt', 'Heliopolis, Cairo, Egypt', 'Alexandria, Egypt', 'Maadi, Cairo, Egypt']\n"
     ]
    }
   ],
   "source": [
    "#get job location\n",
    "location_jobs = soup.find_all(\"span\",{\"class\":\"css-5wys0k\"})\n",
    "for i in range(len(location_jobs)):\n",
    "    job_location.append(location_jobs[i].text.strip())\n",
    "print(job_location)"
   ]
  },
  {
   "cell_type": "code",
   "execution_count": 9,
   "id": "0106795c",
   "metadata": {},
   "outputs": [
    {
     "name": "stdout",
     "output_type": "stream",
     "text": [
      "['Python Developer', 'Entry Level', '· IT/Software Development', '· Engineering - Telecom/Technology', 'Senior Full Stack Python Developer', 'Experienced', '· IT/Software Development', 'Senior Java/ Scala Backend Developer with Python experience- Remote', 'Experienced', '· IT/Software Development', '· Engineering - Telecom/Technology', 'Senior Python Developer', 'Experienced', '· IT/Software Development', '· Engineering - Telecom/Technology', 'Python Developer', 'Manager', '· IT/Software Development', 'Software Engineer (Python)', 'Experienced', '· IT/Software Development', '· Engineering - Telecom/Technology', 'Python and Javascript Machine Learning Engineer (NLP - Natural Language Processing)', 'Experienced', '· IT/Software Development', '· Engineering - Telecom/Technology', '· Engineering - Other', 'Python Backend Web Developer (Django Rest Framework)', 'Experienced', '· IT/Software Development', 'Python Developer', 'Experienced', '· IT/Software Development', 'Senior Python Full Stack Developer', 'Experienced', '· IT/Software Development', 'Python Developer', 'Experienced', '· IT/Software Development', 'Python Developer', 'Experienced', '· IT/Software Development', 'Senior Full Stack Developer', 'Experienced', '· IT/Software Development', '· Engineering - Telecom/Technology', 'Junior Software Developer', 'Entry Level', '· IT/Software Development', 'Senior Data Scientist', 'Experienced', '· IT/Software Development', 'Accounting/Finance', 'Administration', 'Analyst/Research', 'Android Jobs', 'Banking', 'Business Development', 'C-Level Executive/GM/Director', 'Creative/Design/Art', 'Customer Service/Support', 'Education/Teaching', 'Engineering - Construction/Civil/Architecture', 'Engineering - Mechanical/Electrical', 'Engineering - Oil & Gas/Energy', 'Engineering - Other', 'Engineering - Telecom/Technology', 'Fashion', 'Hospitality/Hotels/Food Services', 'Human Resources', 'IT/Software Development', 'Installation/Maintenance/Repair', 'Internships in Egypt', 'Legal', 'Logistics/Supply Chain', 'Manufacturing/Production', 'Marketing/PR/Advertising', 'Media/Journalism/Publishing', 'Medical/Healthcare', 'Operations/Management', 'Pharmaceutical', 'Project/Program Management', 'Purchasing/Procurement', 'Quality', 'R&D/Science', 'Sales/Retail', 'Sports and Leisure', 'Startup Jobs', 'Strategy/Consulting', 'Tourism/Travel', 'Training/Instructor', 'Writing/Editorial', 'Jobs in Cairo', 'Jobs in Giza', 'Jobs in Alexandria', 'Jobs in Sharqia', 'Jobs in Riyadh', 'Jobs in Dakahlia', 'Jobs in Monufya', 'Jobs in Red Sea', 'Jobs in Gharbia', 'Jobs in Suez', 'Jobs in Beni Suef', 'Jobs in Qalubia', 'Jobs in Aswan', 'Jobs in Port Said', 'Jobs in Sohag', 'Jobs in Damietta', 'Jobs in Assiut', 'Jobs in Matruh', 'Jobs in Jeddah', 'Jobs in Dubai', 'Jobs in Ismailia', 'Jobs in Beheira', 'Jobs in Kafr Alsheikh', 'Jobs in Minya', 'Jobs in North Sinai', 'Jobs in New Cairo', 'Jobs in Maadi', 'Jobs in Nasr City', 'Jobs in 6th of October', 'Jobs in Heliopolis', 'Jobs in Dokki', 'Jobs in Sheikh Zayed', 'Jobs in Mohandessin', 'Jobs in Sheraton', 'Jobs in 10th of Ramadan City', 'Jobs in Obour City', 'Jobs in 10th of Ramadan City', 'Jobs in Katameya', 'Jobs in Downtown', 'Jobs in Bourj Alarab', 'Jobs in Zamalek', 'Jobs in Mansoura', 'Jobs in Mokattam', 'Jobs in Haram', 'Jobs in Smouha', 'Jobs in Smart Village', 'Jobs in Badr City', 'Jobs in Giza', 'Jobs in New Capital', 'Jobs in Abu Rawash']\n"
     ]
    }
   ],
   "source": [
    "#get job Experienced\n",
    "Experienceds_jobs = soup.find_all(\"a\",{\"class\":\"css-o171kl\"})\n",
    "for i in range(len(Experienceds_jobs)):\n",
    "    job_Experienced.append(Experienceds_jobs[i].text.strip())\n",
    "print(job_Experienced)"
   ]
  },
  {
   "cell_type": "code",
   "execution_count": 11,
   "id": "2e74845a",
   "metadata": {},
   "outputs": [
    {
     "name": "stdout",
     "output_type": "stream",
     "text": [
      "['Full Time', 'Full Time', 'Full Time', 'Work From Home', 'Full Time', 'Freelance / Project', 'Full Time', 'Part Time', 'Work From Home', 'Full Time', 'Work From Home', 'Full Time', 'Work From Home', 'Full Time', 'Full Time', 'Full Time', 'Full Time', 'Full Time', 'Full Time', 'Full Time']\n"
     ]
    }
   ],
   "source": [
    "#get time_for_job\n",
    "types_job=soup.find_all('span',{'class':'css-1ve4b75 eoyjyou0'})\n",
    "for i in range(len(types_job)):\n",
    "    type_job.append(types_job[i].text.strip())\n",
    "print(type_job)"
   ]
  },
  {
   "cell_type": "code",
   "execution_count": 13,
   "id": "bc3c2cef",
   "metadata": {},
   "outputs": [
    {
     "name": "stdout",
     "output_type": "stream",
     "text": [
      "['18 days ago', '19 days ago', '21 days ago', '22 days ago', '24 days ago', '28 days ago', '1 month ago', '2 months ago', '2 months ago', '2 months ago', '18 days ago', '19 days ago', '21 days ago', '22 days ago', '24 days ago', '28 days ago', '1 month ago', '2 months ago', '2 months ago', '2 months ago']\n"
     ]
    }
   ],
   "source": [
    "#get job_posted\n",
    "time_posted = soup.find_all('div',{'class':'css-do6t5g'})\n",
    "for i in range(len(time_posted)):\n",
    "    job_posted.append(time_posted[i].text.strip())\n",
    "print(job_posted)"
   ]
  },
  {
   "cell_type": "markdown",
   "id": "945da725",
   "metadata": {},
   "source": [
    "### save data in csv file"
   ]
  },
  {
   "cell_type": "code",
   "execution_count": 14,
   "id": "97e0211a",
   "metadata": {},
   "outputs": [
    {
     "data": {
      "text/html": [
       "<div>\n",
       "<style scoped>\n",
       "    .dataframe tbody tr th:only-of-type {\n",
       "        vertical-align: middle;\n",
       "    }\n",
       "\n",
       "    .dataframe tbody tr th {\n",
       "        vertical-align: top;\n",
       "    }\n",
       "\n",
       "    .dataframe thead th {\n",
       "        text-align: right;\n",
       "    }\n",
       "</style>\n",
       "<table border=\"1\" class=\"dataframe\">\n",
       "  <thead>\n",
       "    <tr style=\"text-align: right;\">\n",
       "      <th></th>\n",
       "      <th>job_titles</th>\n",
       "      <th>company_name</th>\n",
       "      <th>job_location</th>\n",
       "      <th>job_Experienced</th>\n",
       "      <th>time_for_job</th>\n",
       "      <th>job_posted</th>\n",
       "    </tr>\n",
       "  </thead>\n",
       "  <tbody>\n",
       "    <tr>\n",
       "      <th>0</th>\n",
       "      <td>Python Developer</td>\n",
       "      <td>OdooTec</td>\n",
       "      <td>New Cairo, Cairo, Egypt</td>\n",
       "      <td>Python Developer</td>\n",
       "      <td>Full Time</td>\n",
       "      <td>[18 days,  ,  ago]</td>\n",
       "    </tr>\n",
       "    <tr>\n",
       "      <th>1</th>\n",
       "      <td>Senior Full Stack Python Developer</td>\n",
       "      <td>Luftborn</td>\n",
       "      <td>Heliopolis, Cairo, Egypt</td>\n",
       "      <td>Entry Level</td>\n",
       "      <td>Full Time</td>\n",
       "      <td>[19 days,  ,  ago]</td>\n",
       "    </tr>\n",
       "    <tr>\n",
       "      <th>2</th>\n",
       "      <td>Senior Java/ Scala Backend Developer with Pyth...</td>\n",
       "      <td>GetTechForce.com</td>\n",
       "      <td>Cairo, Egypt</td>\n",
       "      <td>· IT/Software Development</td>\n",
       "      <td>Full Time</td>\n",
       "      <td>[21 days,  ,  ago]</td>\n",
       "    </tr>\n",
       "    <tr>\n",
       "      <th>3</th>\n",
       "      <td>Senior Python Developer</td>\n",
       "      <td>Trufla</td>\n",
       "      <td>Heliopolis, Cairo, Egypt</td>\n",
       "      <td>· Engineering - Telecom/Technology</td>\n",
       "      <td>Work From Home</td>\n",
       "      <td>[22 days,  ,  ago]</td>\n",
       "    </tr>\n",
       "    <tr>\n",
       "      <th>4</th>\n",
       "      <td>Python Developer</td>\n",
       "      <td>Synergy Markets</td>\n",
       "      <td>New Cairo, Cairo, Egypt</td>\n",
       "      <td>Senior Full Stack Python Developer</td>\n",
       "      <td>Full Time</td>\n",
       "      <td>[24 days,  ,  ago]</td>\n",
       "    </tr>\n",
       "  </tbody>\n",
       "</table>\n",
       "</div>"
      ],
      "text/plain": [
       "                                          job_titles       company_name  \\\n",
       "0                                   Python Developer           OdooTec    \n",
       "1                 Senior Full Stack Python Developer          Luftborn    \n",
       "2  Senior Java/ Scala Backend Developer with Pyth...  GetTechForce.com    \n",
       "3                            Senior Python Developer            Trufla    \n",
       "4                                   Python Developer   Synergy Markets    \n",
       "\n",
       "               job_location                     job_Experienced  \\\n",
       "0   New Cairo, Cairo, Egypt                    Python Developer   \n",
       "1  Heliopolis, Cairo, Egypt                         Entry Level   \n",
       "2              Cairo, Egypt           · IT/Software Development   \n",
       "3  Heliopolis, Cairo, Egypt  · Engineering - Telecom/Technology   \n",
       "4   New Cairo, Cairo, Egypt  Senior Full Stack Python Developer   \n",
       "\n",
       "     time_for_job          job_posted  \n",
       "0       Full Time  [18 days,  ,  ago]  \n",
       "1       Full Time  [19 days,  ,  ago]  \n",
       "2       Full Time  [21 days,  ,  ago]  \n",
       "3  Work From Home  [22 days,  ,  ago]  \n",
       "4       Full Time  [24 days,  ,  ago]  "
      ]
     },
     "execution_count": 14,
     "metadata": {},
     "output_type": "execute_result"
    }
   ],
   "source": [
    "import pandas as pd\n",
    "result = itertools.zip_longest(job_titles, company_name, job_location, job_Experienced, type_job, time_posted)\n",
    "df = pd.DataFrame(result,columns=['job_titles','company_name','job_location','job_Experienced','time_for_job','job_posted'])\n",
    "df.to_csv('data.csv', index=False, encoding='utf-8')\n",
    "df.head()"
   ]
  }
 ],
 "metadata": {
  "kernelspec": {
   "display_name": "base",
   "language": "python",
   "name": "python3"
  },
  "language_info": {
   "codemirror_mode": {
    "name": "ipython",
    "version": 3
   },
   "file_extension": ".py",
   "mimetype": "text/x-python",
   "name": "python",
   "nbconvert_exporter": "python",
   "pygments_lexer": "ipython3",
   "version": "3.9.12"
  },
  "vscode": {
   "interpreter": {
    "hash": "5a13ddef77f8782a6fcc5de0c194e69abd808e9eeade76da473c5f437df31c43"
   }
  }
 },
 "nbformat": 4,
 "nbformat_minor": 5
}
